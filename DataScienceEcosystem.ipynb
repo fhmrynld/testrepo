{
 "cells": [
  {
   "cell_type": "markdown",
   "id": "f559b820-eb48-42ef-bfc8-1bf3c304cc3f",
   "metadata": {},
   "source": [
    "# Data Science Tools and Ecosystem"
   ]
  },
  {
   "cell_type": "markdown",
   "id": "8d6db207-e4db-4000-ba1d-27987bc3cf69",
   "metadata": {},
   "source": [
    "In this notebook, Data Science Tools and Ecosystem are summarized."
   ]
  },
  {
   "cell_type": "markdown",
   "id": "89271d4a-15f2-4609-ae69-0cea0764a2fb",
   "metadata": {},
   "source": [
    "Some of the popular languages that Data Science use are:\n",
    "- Python\n",
    "- Julia\n",
    "- R\n",
    "- SQL\n",
    "- Scala\n",
    "- Java\n",
    "- C++"
   ]
  },
  {
   "cell_type": "markdown",
   "id": "c40790b1-0744-49fe-8627-2ef9d7ca4722",
   "metadata": {},
   "source": [
    "Some of the commonly used libraries used by Data Scientists include:\n",
    "- Numpy\n",
    "- Pandas\n",
    "- Matplotlib\n",
    "- Seaborn\n",
    "- Scikit-Learn\n",
    "- Keras"
   ]
  },
  {
   "cell_type": "markdown",
   "id": "ef45bcd1-3e55-41b0-9456-06b9809972b8",
   "metadata": {},
   "source": [
    "|Data Science Tools|\n",
    "|------------------|\n",
    "| MySQL |\n",
    "| JupyterLab |\n",
    "| RStudio |\n",
    "| Spyder |\n",
    "| Apache Spark |"
   ]
  },
  {
   "cell_type": "markdown",
   "id": "9b5468c3-9354-4529-8e5e-04793d5f3312",
   "metadata": {},
   "source": [
    "### Below are a few examples of evaluating arithmetic expressions in Python"
   ]
  },
  {
   "cell_type": "code",
   "execution_count": 15,
   "id": "52ba1cf7-204f-440e-bfb2-f0952c50e774",
   "metadata": {},
   "outputs": [
    {
     "data": {
      "text/plain": [
       "17"
      ]
     },
     "execution_count": 15,
     "metadata": {},
     "output_type": "execute_result"
    }
   ],
   "source": [
    "# This is a simple arithmetic expression to multiply then add integers.\n",
    "(3*4)+5"
   ]
  },
  {
   "cell_type": "code",
   "execution_count": 17,
   "id": "a580bcc5-9881-4800-858d-bccd0294487e",
   "metadata": {},
   "outputs": [
    {
     "name": "stdout",
     "output_type": "stream",
     "text": [
      "3.3333333333333335\n"
     ]
    }
   ],
   "source": [
    "# This will convert 200 minutes to hours by dividing by 60\n",
    "minutes = 200\n",
    "hours = minutes/60\n",
    "\n",
    "print(hours)"
   ]
  },
  {
   "cell_type": "markdown",
   "id": "7cff3e8e-f0de-4257-bc7b-eee8a4ef4eae",
   "metadata": {},
   "source": [
    "**Objectives:**\n",
    "* common programming languages that used by data scientist: Python, R, Julia, SQL\n",
    "* common open source software used by data scientist: MySQL, JupyterLab, Rstudio\n",
    "* common librarites used by data scientist: Pandas, NumPy, Matplotlib, Keras, etc.\n",
    "* there are 3 types of Machine Learning: Supervised Learning, Unsupervised Learning, and Reinforcement Learning.\n",
    "* API serves as the interface that users interact with while the library contains all the program components."
   ]
  },
  {
   "cell_type": "markdown",
   "id": "7c4bb209-7bc4-4bba-871f-f4c964cb1bc5",
   "metadata": {},
   "source": [
    "## Author\n",
    "Reynaldi Fahmi"
   ]
  },
  {
   "cell_type": "code",
   "execution_count": null,
   "id": "cdec6886-1b04-4e76-b788-6742198e21dd",
   "metadata": {},
   "outputs": [],
   "source": []
  }
 ],
 "metadata": {
  "kernelspec": {
   "display_name": "Python [conda env:base] *",
   "language": "python",
   "name": "conda-base-py"
  },
  "language_info": {
   "codemirror_mode": {
    "name": "ipython",
    "version": 3
   },
   "file_extension": ".py",
   "mimetype": "text/x-python",
   "name": "python",
   "nbconvert_exporter": "python",
   "pygments_lexer": "ipython3",
   "version": "3.12.7"
  }
 },
 "nbformat": 4,
 "nbformat_minor": 5
}
